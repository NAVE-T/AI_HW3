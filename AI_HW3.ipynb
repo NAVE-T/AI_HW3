{
  "nbformat": 4,
  "nbformat_minor": 0,
  "metadata": {
    "colab": {
      "provenance": [],
      "authorship_tag": "ABX9TyOrs9R3ycbs6ZSXIfUDLbUB",
      "include_colab_link": true
    },
    "kernelspec": {
      "name": "python3",
      "display_name": "Python 3"
    },
    "language_info": {
      "name": "python"
    },
    "widgets": {
      "application/vnd.jupyter.widget-state+json": {
        "e0327decbe4a4dd78d4ea51da919c6b2": {
          "model_module": "@jupyter-widgets/controls",
          "model_name": "HBoxModel",
          "model_module_version": "1.5.0",
          "state": {
            "_dom_classes": [],
            "_model_module": "@jupyter-widgets/controls",
            "_model_module_version": "1.5.0",
            "_model_name": "HBoxModel",
            "_view_count": null,
            "_view_module": "@jupyter-widgets/controls",
            "_view_module_version": "1.5.0",
            "_view_name": "HBoxView",
            "box_style": "",
            "children": [
              "IPY_MODEL_3daa26020c5f4b78973ac70bf8f197fd",
              "IPY_MODEL_4d40b69cf8404a5aa5b914df8fc86e75",
              "IPY_MODEL_fac42d56946f487e90577f5d7a3b7f97"
            ],
            "layout": "IPY_MODEL_0a29a4c4f56a4d0691f0cacdcf7b89b9"
          }
        },
        "3daa26020c5f4b78973ac70bf8f197fd": {
          "model_module": "@jupyter-widgets/controls",
          "model_name": "HTMLModel",
          "model_module_version": "1.5.0",
          "state": {
            "_dom_classes": [],
            "_model_module": "@jupyter-widgets/controls",
            "_model_module_version": "1.5.0",
            "_model_name": "HTMLModel",
            "_view_count": null,
            "_view_module": "@jupyter-widgets/controls",
            "_view_module_version": "1.5.0",
            "_view_name": "HTMLView",
            "description": "",
            "description_tooltip": null,
            "layout": "IPY_MODEL_2a14be4520784d51b5f87b74f24595b5",
            "placeholder": "​",
            "style": "IPY_MODEL_e566b70822c74f979e26f24c3e70642b",
            "value": "100%"
          }
        },
        "4d40b69cf8404a5aa5b914df8fc86e75": {
          "model_module": "@jupyter-widgets/controls",
          "model_name": "FloatProgressModel",
          "model_module_version": "1.5.0",
          "state": {
            "_dom_classes": [],
            "_model_module": "@jupyter-widgets/controls",
            "_model_module_version": "1.5.0",
            "_model_name": "FloatProgressModel",
            "_view_count": null,
            "_view_module": "@jupyter-widgets/controls",
            "_view_module_version": "1.5.0",
            "_view_name": "ProgressView",
            "bar_style": "success",
            "description": "",
            "description_tooltip": null,
            "layout": "IPY_MODEL_f156ce6211904bd28ce7a89975831317",
            "max": 170498071,
            "min": 0,
            "orientation": "horizontal",
            "style": "IPY_MODEL_89a7de49769d47b1b0f5f7abf77cdeba",
            "value": 170498071
          }
        },
        "fac42d56946f487e90577f5d7a3b7f97": {
          "model_module": "@jupyter-widgets/controls",
          "model_name": "HTMLModel",
          "model_module_version": "1.5.0",
          "state": {
            "_dom_classes": [],
            "_model_module": "@jupyter-widgets/controls",
            "_model_module_version": "1.5.0",
            "_model_name": "HTMLModel",
            "_view_count": null,
            "_view_module": "@jupyter-widgets/controls",
            "_view_module_version": "1.5.0",
            "_view_name": "HTMLView",
            "description": "",
            "description_tooltip": null,
            "layout": "IPY_MODEL_bf32138c5df94351adf1ebf769810b96",
            "placeholder": "​",
            "style": "IPY_MODEL_25ff60a2983041bc8e7cd6646c8c021c",
            "value": " 170498071/170498071 [00:11&lt;00:00, 19639257.45it/s]"
          }
        },
        "0a29a4c4f56a4d0691f0cacdcf7b89b9": {
          "model_module": "@jupyter-widgets/base",
          "model_name": "LayoutModel",
          "model_module_version": "1.2.0",
          "state": {
            "_model_module": "@jupyter-widgets/base",
            "_model_module_version": "1.2.0",
            "_model_name": "LayoutModel",
            "_view_count": null,
            "_view_module": "@jupyter-widgets/base",
            "_view_module_version": "1.2.0",
            "_view_name": "LayoutView",
            "align_content": null,
            "align_items": null,
            "align_self": null,
            "border": null,
            "bottom": null,
            "display": null,
            "flex": null,
            "flex_flow": null,
            "grid_area": null,
            "grid_auto_columns": null,
            "grid_auto_flow": null,
            "grid_auto_rows": null,
            "grid_column": null,
            "grid_gap": null,
            "grid_row": null,
            "grid_template_areas": null,
            "grid_template_columns": null,
            "grid_template_rows": null,
            "height": null,
            "justify_content": null,
            "justify_items": null,
            "left": null,
            "margin": null,
            "max_height": null,
            "max_width": null,
            "min_height": null,
            "min_width": null,
            "object_fit": null,
            "object_position": null,
            "order": null,
            "overflow": null,
            "overflow_x": null,
            "overflow_y": null,
            "padding": null,
            "right": null,
            "top": null,
            "visibility": null,
            "width": null
          }
        },
        "2a14be4520784d51b5f87b74f24595b5": {
          "model_module": "@jupyter-widgets/base",
          "model_name": "LayoutModel",
          "model_module_version": "1.2.0",
          "state": {
            "_model_module": "@jupyter-widgets/base",
            "_model_module_version": "1.2.0",
            "_model_name": "LayoutModel",
            "_view_count": null,
            "_view_module": "@jupyter-widgets/base",
            "_view_module_version": "1.2.0",
            "_view_name": "LayoutView",
            "align_content": null,
            "align_items": null,
            "align_self": null,
            "border": null,
            "bottom": null,
            "display": null,
            "flex": null,
            "flex_flow": null,
            "grid_area": null,
            "grid_auto_columns": null,
            "grid_auto_flow": null,
            "grid_auto_rows": null,
            "grid_column": null,
            "grid_gap": null,
            "grid_row": null,
            "grid_template_areas": null,
            "grid_template_columns": null,
            "grid_template_rows": null,
            "height": null,
            "justify_content": null,
            "justify_items": null,
            "left": null,
            "margin": null,
            "max_height": null,
            "max_width": null,
            "min_height": null,
            "min_width": null,
            "object_fit": null,
            "object_position": null,
            "order": null,
            "overflow": null,
            "overflow_x": null,
            "overflow_y": null,
            "padding": null,
            "right": null,
            "top": null,
            "visibility": null,
            "width": null
          }
        },
        "e566b70822c74f979e26f24c3e70642b": {
          "model_module": "@jupyter-widgets/controls",
          "model_name": "DescriptionStyleModel",
          "model_module_version": "1.5.0",
          "state": {
            "_model_module": "@jupyter-widgets/controls",
            "_model_module_version": "1.5.0",
            "_model_name": "DescriptionStyleModel",
            "_view_count": null,
            "_view_module": "@jupyter-widgets/base",
            "_view_module_version": "1.2.0",
            "_view_name": "StyleView",
            "description_width": ""
          }
        },
        "f156ce6211904bd28ce7a89975831317": {
          "model_module": "@jupyter-widgets/base",
          "model_name": "LayoutModel",
          "model_module_version": "1.2.0",
          "state": {
            "_model_module": "@jupyter-widgets/base",
            "_model_module_version": "1.2.0",
            "_model_name": "LayoutModel",
            "_view_count": null,
            "_view_module": "@jupyter-widgets/base",
            "_view_module_version": "1.2.0",
            "_view_name": "LayoutView",
            "align_content": null,
            "align_items": null,
            "align_self": null,
            "border": null,
            "bottom": null,
            "display": null,
            "flex": null,
            "flex_flow": null,
            "grid_area": null,
            "grid_auto_columns": null,
            "grid_auto_flow": null,
            "grid_auto_rows": null,
            "grid_column": null,
            "grid_gap": null,
            "grid_row": null,
            "grid_template_areas": null,
            "grid_template_columns": null,
            "grid_template_rows": null,
            "height": null,
            "justify_content": null,
            "justify_items": null,
            "left": null,
            "margin": null,
            "max_height": null,
            "max_width": null,
            "min_height": null,
            "min_width": null,
            "object_fit": null,
            "object_position": null,
            "order": null,
            "overflow": null,
            "overflow_x": null,
            "overflow_y": null,
            "padding": null,
            "right": null,
            "top": null,
            "visibility": null,
            "width": null
          }
        },
        "89a7de49769d47b1b0f5f7abf77cdeba": {
          "model_module": "@jupyter-widgets/controls",
          "model_name": "ProgressStyleModel",
          "model_module_version": "1.5.0",
          "state": {
            "_model_module": "@jupyter-widgets/controls",
            "_model_module_version": "1.5.0",
            "_model_name": "ProgressStyleModel",
            "_view_count": null,
            "_view_module": "@jupyter-widgets/base",
            "_view_module_version": "1.2.0",
            "_view_name": "StyleView",
            "bar_color": null,
            "description_width": ""
          }
        },
        "bf32138c5df94351adf1ebf769810b96": {
          "model_module": "@jupyter-widgets/base",
          "model_name": "LayoutModel",
          "model_module_version": "1.2.0",
          "state": {
            "_model_module": "@jupyter-widgets/base",
            "_model_module_version": "1.2.0",
            "_model_name": "LayoutModel",
            "_view_count": null,
            "_view_module": "@jupyter-widgets/base",
            "_view_module_version": "1.2.0",
            "_view_name": "LayoutView",
            "align_content": null,
            "align_items": null,
            "align_self": null,
            "border": null,
            "bottom": null,
            "display": null,
            "flex": null,
            "flex_flow": null,
            "grid_area": null,
            "grid_auto_columns": null,
            "grid_auto_flow": null,
            "grid_auto_rows": null,
            "grid_column": null,
            "grid_gap": null,
            "grid_row": null,
            "grid_template_areas": null,
            "grid_template_columns": null,
            "grid_template_rows": null,
            "height": null,
            "justify_content": null,
            "justify_items": null,
            "left": null,
            "margin": null,
            "max_height": null,
            "max_width": null,
            "min_height": null,
            "min_width": null,
            "object_fit": null,
            "object_position": null,
            "order": null,
            "overflow": null,
            "overflow_x": null,
            "overflow_y": null,
            "padding": null,
            "right": null,
            "top": null,
            "visibility": null,
            "width": null
          }
        },
        "25ff60a2983041bc8e7cd6646c8c021c": {
          "model_module": "@jupyter-widgets/controls",
          "model_name": "DescriptionStyleModel",
          "model_module_version": "1.5.0",
          "state": {
            "_model_module": "@jupyter-widgets/controls",
            "_model_module_version": "1.5.0",
            "_model_name": "DescriptionStyleModel",
            "_view_count": null,
            "_view_module": "@jupyter-widgets/base",
            "_view_module_version": "1.2.0",
            "_view_name": "StyleView",
            "description_width": ""
          }
        }
      }
    }
  },
  "cells": [
    {
      "cell_type": "markdown",
      "metadata": {
        "id": "view-in-github",
        "colab_type": "text"
      },
      "source": [
        "<a href=\"https://colab.research.google.com/github/WeedCat23/AI_HW3/blob/main/AI_HW3.ipynb\" target=\"_parent\"><img src=\"https://colab.research.google.com/assets/colab-badge.svg\" alt=\"Open In Colab\"/></a>"
      ]
    },
    {
      "cell_type": "markdown",
      "source": [
        "Import"
      ],
      "metadata": {
        "id": "gGXi-FZvc9Bx"
      }
    },
    {
      "cell_type": "code",
      "execution_count": 8,
      "metadata": {
        "id": "wrqD2gft0gHG"
      },
      "outputs": [],
      "source": [
        "import torch\n",
        "import torchvision\n",
        "from torchvision import datasets\n",
        "import torchvision.transforms as transforms\n",
        "\n",
        "import torch.utils.data \n",
        "from torch.utils.data import DataLoader\n",
        "\n",
        "import torch.nn as nn\n",
        "import torch.nn.functional as F\n",
        "\n",
        "# from tqdm.notebook import tqdm\n",
        "import numpy as np\n",
        "import random\n",
        "import time\n",
        "import matplotlib\n",
        "import matplotlib.pyplot as plt"
      ]
    },
    {
      "cell_type": "markdown",
      "source": [
        "Define transform (data augmentation included)"
      ],
      "metadata": {
        "id": "ualDjhs-khhr"
      }
    },
    {
      "cell_type": "code",
      "source": [
        "img_norm = [(0.4914, 0.4822, 0.4465), (0.247, 0.243, 0.261)]\n",
        "train_trans = transforms.Compose([\n",
        "    # Data augmentation\n",
        "    transforms.RandomCrop(32, padding=4),\n",
        "    transforms.RandomHorizontalFlip(0.4),\n",
        "    transforms.ToTensor(),\n",
        "    transforms.Normalize(*img_norm)                                               \n",
        "])\n",
        "\n",
        "test_trans = transforms.Compose([\n",
        "    transforms.ToTensor(),\n",
        "    transforms.Normalize(*img_norm)\n",
        "])"
      ],
      "metadata": {
        "id": "opGlxd4L1-8l"
      },
      "execution_count": 9,
      "outputs": []
    },
    {
      "cell_type": "markdown",
      "source": [
        "Load dataset and split"
      ],
      "metadata": {
        "id": "XKbpgZK2kZ9R"
      }
    },
    {
      "cell_type": "code",
      "source": [
        "# Download datasets\n",
        "train_ds = datasets.CIFAR10(root=\"./CIFAR10\", transform=train_trans, train=True, download=True)\n",
        "test_ds = datasets.CIFAR10(root=\"./CIFAR10\", transform=test_trans, train=False, download=True)\n",
        "# split train and valid data with ratio 9 : 1\n",
        "n_train = len(train_ds)\n",
        "split = n_train // 10\n",
        "indices = list(range(len(train_ds)))\n",
        "random.shuffle(indices)\n",
        "train_sampler = indices[split:]\n",
        "valid_sampler = indices[:split]\n",
        "# Dataloader\n",
        "train_dl = DataLoader(train_ds, batch_size = 1024, sampler = train_sampler)\n",
        "valid_dl = DataLoader(train_ds, batch_size = 1024, sampler = valid_sampler)\n",
        "test_dl = DataLoader(test_ds, batch_size = 1024)\n"
      ],
      "metadata": {
        "id": "JXvKcRgL0wsF",
        "colab": {
          "base_uri": "https://localhost:8080/",
          "height": 124,
          "referenced_widgets": [
            "e0327decbe4a4dd78d4ea51da919c6b2",
            "3daa26020c5f4b78973ac70bf8f197fd",
            "4d40b69cf8404a5aa5b914df8fc86e75",
            "fac42d56946f487e90577f5d7a3b7f97",
            "0a29a4c4f56a4d0691f0cacdcf7b89b9",
            "2a14be4520784d51b5f87b74f24595b5",
            "e566b70822c74f979e26f24c3e70642b",
            "f156ce6211904bd28ce7a89975831317",
            "89a7de49769d47b1b0f5f7abf77cdeba",
            "bf32138c5df94351adf1ebf769810b96",
            "25ff60a2983041bc8e7cd6646c8c021c"
          ]
        },
        "outputId": "50f00bc9-9662-461e-cd43-df57ea48cc43"
      },
      "execution_count": 10,
      "outputs": [
        {
          "output_type": "stream",
          "name": "stdout",
          "text": [
            "Downloading https://www.cs.toronto.edu/~kriz/cifar-10-python.tar.gz to ./CIFAR10/cifar-10-python.tar.gz\n"
          ]
        },
        {
          "output_type": "display_data",
          "data": {
            "text/plain": [
              "  0%|          | 0/170498071 [00:00<?, ?it/s]"
            ],
            "application/vnd.jupyter.widget-view+json": {
              "version_major": 2,
              "version_minor": 0,
              "model_id": "e0327decbe4a4dd78d4ea51da919c6b2"
            }
          },
          "metadata": {}
        },
        {
          "output_type": "stream",
          "name": "stdout",
          "text": [
            "Extracting ./CIFAR10/cifar-10-python.tar.gz to ./CIFAR10\n",
            "Files already downloaded and verified\n"
          ]
        }
      ]
    },
    {
      "cell_type": "markdown",
      "source": [
        "One-hot encode"
      ],
      "metadata": {
        "id": "_UZngrcBkRs2"
      }
    },
    {
      "cell_type": "code",
      "source": [
        "classes = train_ds.classes\n",
        "print(classes)\n",
        "linear_in_channel = 32*32*3"
      ],
      "metadata": {
        "colab": {
          "base_uri": "https://localhost:8080/"
        },
        "id": "rCKpPItd61s_",
        "outputId": "c1f24772-c1fe-4861-a05c-1d2fa38a264b"
      },
      "execution_count": 11,
      "outputs": [
        {
          "output_type": "stream",
          "name": "stdout",
          "text": [
            "['airplane', 'automobile', 'bird', 'cat', 'deer', 'dog', 'frog', 'horse', 'ship', 'truck']\n"
          ]
        }
      ]
    },
    {
      "cell_type": "markdown",
      "source": [
        "Hyper parameters"
      ],
      "metadata": {
        "id": "DNHPR4Whdo6W"
      }
    },
    {
      "cell_type": "code",
      "source": [
        "learning_rate = 0.001\n",
        "batch_size = 1024\n",
        "epochs = 50\n"
      ],
      "metadata": {
        "id": "KOJr_qb9dofq"
      },
      "execution_count": 12,
      "outputs": []
    },
    {
      "cell_type": "markdown",
      "source": [
        "Define Models"
      ],
      "metadata": {
        "id": "KlUUmbVncNes"
      }
    },
    {
      "cell_type": "code",
      "source": [
        "class Linear(nn.Module):\n",
        "    def __init__(self):\n",
        "      super(Linear, self).__init__()\n",
        "      self.classifier = nn.Sequential(\n",
        "        nn.Linear(linear_in_channel, 1024),\n",
        "        nn.ReLU(),\n",
        "        nn.Linear(1024, 1024),\n",
        "        nn.ReLU(),\n",
        "        nn.Linear(1024,256),\n",
        "        nn.ReLU(),\n",
        "        nn.Linear(256, 10),\n",
        "        nn.Softmax()\n",
        "        )\n",
        "\n",
        "    def forward(self, x):\n",
        "        x = self.classifier(x)\n",
        "        x = x.view(x.size(0), 10)\n",
        "        return x"
      ],
      "metadata": {
        "id": "LLri6_sftnvm"
      },
      "execution_count": 47,
      "outputs": []
    },
    {
      "cell_type": "code",
      "source": [
        "class Convolution(nn.Module):\n",
        "    def __init__(self):\n",
        "      super(Convolution, self).__init__()\n",
        "      self.classifier = nn.Sequential(\n",
        "          \n",
        "        # Conv block 1\n",
        "        # input_shape=(3,32,32)  \n",
        "        nn.Conv2d(3, 16, kernel_size=5, stride=1, padding=2),# (16,32,32) ((W-K+2P)/S)+1\n",
        "        # nn.BatchNorm2d(16),\n",
        "        nn.ReLU(),\n",
        "        nn.MaxPool2d(kernel_size=2),# (16,16,16)\n",
        "        nn.Conv2d(16, 32, kernel_size=3, stride=1, padding=2),# (32,18,18)\n",
        "        # nn.BatchNorm2d(32),\n",
        "        nn.ReLU(),\n",
        "\n",
        "        nn.Conv2d(32, 64, kernel_size=5, stride=1, padding=1),# (64,16,16) \n",
        "        # nn.BatchNorm2d(16),\n",
        "        nn.ReLU(),\n",
        "        nn.MaxPool2d(kernel_size=2),# (64,8,8)\n",
        "        nn.Conv2d(64, 32, kernel_size=3, stride=1, padding=1),# (32,8,8)\n",
        "        # nn.BatchNorm2d(32),\n",
        "        nn.ReLU(),\n",
        "\n",
        "\n",
        "        # fully connected\n",
        "        nn.Dropout(0.5),\n",
        "        nn.Flatten(),\n",
        "        nn.Linear(32*8*8, 10)\n",
        "        )\n",
        "\n",
        "    def forward(self, x):\n",
        "        x = self.classifier(x)\n",
        "        x = x.view(x.size(0), 10)\n",
        "        return x"
      ],
      "metadata": {
        "id": "uTpRzAAstjZP"
      },
      "execution_count": 43,
      "outputs": []
    },
    {
      "cell_type": "code",
      "source": [
        "from torchsummary import summary\n",
        "model1 = Linear()\n",
        "summary(model1,(1,3*32*32))\n",
        "model2 = Convolution()\n",
        "summary(model2,(3,32,32))"
      ],
      "metadata": {
        "colab": {
          "base_uri": "https://localhost:8080/"
        },
        "id": "ofuRFZYhfGrR",
        "outputId": "5737dc38-0829-4d58-a78b-97bfa8ffc401"
      },
      "execution_count": 48,
      "outputs": [
        {
          "output_type": "stream",
          "name": "stdout",
          "text": [
            "----------------------------------------------------------------\n",
            "        Layer (type)               Output Shape         Param #\n",
            "================================================================\n",
            "            Linear-1              [-1, 1, 1024]       3,146,752\n",
            "              ReLU-2              [-1, 1, 1024]               0\n",
            "            Linear-3              [-1, 1, 1024]       1,049,600\n",
            "              ReLU-4              [-1, 1, 1024]               0\n",
            "            Linear-5               [-1, 1, 256]         262,400\n",
            "              ReLU-6               [-1, 1, 256]               0\n",
            "            Linear-7                [-1, 1, 10]           2,570\n",
            "           Softmax-8                [-1, 1, 10]               0\n",
            "================================================================\n",
            "Total params: 4,461,322\n",
            "Trainable params: 4,461,322\n",
            "Non-trainable params: 0\n",
            "----------------------------------------------------------------\n",
            "Input size (MB): 0.01\n",
            "Forward/backward pass size (MB): 0.04\n",
            "Params size (MB): 17.02\n",
            "Estimated Total Size (MB): 17.07\n",
            "----------------------------------------------------------------\n",
            "----------------------------------------------------------------\n",
            "        Layer (type)               Output Shape         Param #\n",
            "================================================================\n",
            "            Conv2d-1           [-1, 16, 32, 32]           1,216\n",
            "              ReLU-2           [-1, 16, 32, 32]               0\n",
            "         MaxPool2d-3           [-1, 16, 16, 16]               0\n",
            "            Conv2d-4           [-1, 32, 18, 18]           4,640\n",
            "              ReLU-5           [-1, 32, 18, 18]               0\n",
            "            Conv2d-6           [-1, 64, 16, 16]          51,264\n",
            "              ReLU-7           [-1, 64, 16, 16]               0\n",
            "         MaxPool2d-8             [-1, 64, 8, 8]               0\n",
            "            Conv2d-9             [-1, 32, 8, 8]          18,464\n",
            "             ReLU-10             [-1, 32, 8, 8]               0\n",
            "          Dropout-11             [-1, 32, 8, 8]               0\n",
            "          Flatten-12                 [-1, 2048]               0\n",
            "           Linear-13                   [-1, 10]          20,490\n",
            "================================================================\n",
            "Total params: 96,074\n",
            "Trainable params: 96,074\n",
            "Non-trainable params: 0\n",
            "----------------------------------------------------------------\n",
            "Input size (MB): 0.01\n",
            "Forward/backward pass size (MB): 0.78\n",
            "Params size (MB): 0.37\n",
            "Estimated Total Size (MB): 1.16\n",
            "----------------------------------------------------------------\n"
          ]
        }
      ]
    },
    {
      "cell_type": "code",
      "source": [
        "\n",
        "optimizer_1 = torch.optim.Adam(model1.parameters(), lr=learning_rate)\n",
        "optimizer_2 = torch.optim.Adam(model2.parameters(), lr=learning_rate)\n",
        "loss_func = nn.CrossEntropyLoss()   # the target label is not one-hotted"
      ],
      "metadata": {
        "id": "9itp9Ix7plRT"
      },
      "execution_count": null,
      "outputs": []
    },
    {
      "cell_type": "markdown",
      "source": [
        "Define train and evaluate function"
      ],
      "metadata": {
        "id": "xxM2d-zLowiV"
      }
    },
    {
      "cell_type": "code",
      "source": [
        "def train_model(model, loss_func, optimizer, input_shape, epoch, num_epochs, train_loader):\n",
        "    training_loss = []\n",
        "    training_accuracy = []\n",
        "    correct_train = 0\n",
        "    total_train = 0\n",
        "    \n",
        "    for i, (images, labels) in enumerate(train_loader):\n",
        "        \n",
        "        train = torch.autograd.Variable(images.view(input_shape))\n",
        "        labels = torch.autograd.Variable(labels)\n",
        "            \n",
        "        optimizer.zero_grad() # Clear gradients\n",
        "        outputs = model(train)\n",
        "        train_loss = loss_func(outputs, labels) # Calculate softmax and cross entropy loss\n",
        "\n",
        "        train_loss.backward() # Compute gradients\n",
        "        optimizer.step()   # Update weights\n",
        "            \n",
        "        # torch.max(input, dim, keepdim=False, out=None) -> (Tensor, LongTensor)\n",
        "        predicted = torch.max(outputs.data, 1)[1] # Get predictions from the maximum value\n",
        "        total_train += len(labels) # Total number of labels\n",
        "        correct_train += (predicted == labels).float().sum() # Total correct predictions   \n",
        "        \n",
        "    train_accuracy = 100 * correct_train / float(total_train)\n",
        "    training_accuracy.append(train_accuracy)\n",
        "    training_loss.append(train_loss.data)\n",
        "    print('Epoch: [{}/{}]'.format(epoch+1, num_epochs))\n",
        "    print('> Loss: {} Acc: {:.6f}% '.format(train_loss.data, train_accuracy))\n",
        "\n",
        "    return training_loss, training_accuracy\n"
      ],
      "metadata": {
        "id": "zis-0_H4osnc"
      },
      "execution_count": 49,
      "outputs": []
    },
    {
      "cell_type": "code",
      "source": [
        "# validate and test function\n",
        "def evaluate(model, loss_func, input_shape, val_loader, test_loader, testing = False):\n",
        "    loss = []\n",
        "    accuracy = []  \n",
        "\n",
        "    if testing :\n",
        "        correct_test = 0\n",
        "        total_test = 0\n",
        "        conf_matrix = np.zeros((10, 10))\n",
        "        class_correct = [0]*10\n",
        "        class_total   = [0]*10\n",
        "        \n",
        "        for images, labels in test_loader:\n",
        "            test = torch.autograd.Variable(images.view(input_shape))\n",
        "            outputs = model(test)\n",
        "            test_loss = loss_func(outputs, labels)\n",
        "            predicted = torch.max(outputs.data, 1)[1]\n",
        "\n",
        "            total_test += len(labels)\n",
        "            correct_test += (predicted == labels).float().sum()         \n",
        "            \n",
        "            correct_tensor = predicted.eq(labels.data.view_as(predicted)) # compare, return Tensor(True, True,....)\n",
        "            correct = np.squeeze(correct_tensor.numpy()) # return (True, True,....)\n",
        "        \n",
        "            for i in range(labels.size(0)):\n",
        "                label = labels.data[i]\n",
        "                class_correct[label] += correct[i].item()\n",
        "                class_total[label] += 1\n",
        "        \n",
        "                # Update confusion matrix\n",
        "                conf_matrix[label][predicted.data[i]] += 1\n",
        "        \n",
        "        test_accuracy = 100 * correct_test / float(total_test)\n",
        "        accuracy.append(test_accuracy)\n",
        "        loss.append(test_loss.data)\n",
        "        print(' Test result --> Loss: {} Acc: {:.6f}%'.format(test_loss.data, test_accuracy))\n",
        "        \n",
        "        print('Accuracy of each digits')\n",
        "        for i in range(10):\n",
        "            if class_total[i] > 0:\n",
        "                print('Test Accuracy of {}: {}, [{}/{}]' .format(\n",
        "                    i, 100 * class_correct[i] / class_total[i],\n",
        "                    np.sum(class_correct[i]), np.sum(class_total[i]))\n",
        "                     )\n",
        "            else:\n",
        "                print('Test Accuracy of {}: N/A (no training examples)' .format(classes[i]))\n",
        "\n",
        "        return loss, accuracy, conf_matrix\n",
        "    else:\n",
        "        correct_val = 0\n",
        "        total_val = 0\n",
        "        for images, labels in val_loader:\n",
        "            \n",
        "            val = torch.autograd.Variable(images.view(input_shape))\n",
        "            outputs = model(val)\n",
        "\n",
        "            val_loss = loss_func(outputs, labels)\n",
        "            predicted = torch.max(outputs.data, 1)[1]\n",
        "\n",
        "            total_val += len(labels)\n",
        "\n",
        "            correct_val += (predicted == labels).float().sum()\n",
        "            \n",
        "        val_accuracy = 100 * correct_val / float(total_val)\n",
        "        accuracy.append(val_accuracy)\n",
        "        loss.append(val_loss.data)\n",
        "        print(' Val   --> Loss: {} Acc: {:.6f}%'.format(val_loss.data, val_accuracy))\n",
        "        return loss, accuracy, _"
      ],
      "metadata": {
        "id": "IzCwLCzkpAjH"
      },
      "execution_count": 51,
      "outputs": []
    },
    {
      "cell_type": "code",
      "source": [],
      "metadata": {
        "id": "096HEVdGykX3"
      },
      "execution_count": null,
      "outputs": []
    }
  ]
}